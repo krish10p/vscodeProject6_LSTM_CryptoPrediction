{
 "cells": [
  {
   "cell_type": "code",
   "execution_count": 419,
   "metadata": {},
   "outputs": [],
   "source": [
    "# # importing libraries\n",
    "# import streamlit as st\n",
    "# import datareader as datareader\n",
    "# import numpy as np\n",
    "# import pandas as pd\n",
    "# import matplotlib.pyplot as plt\n",
    "# import pandas_datareader.data as web\n",
    "# from datetime import datetime, timedelta\n",
    "# import datetime as dt\n",
    "# from sklearn.preprocessing import MinMaxScaler\n",
    "# # from tensorflow.keras.layers import Dense, Dropout, LSTM\n",
    "# # from tensorflow.keras.models import Sequential\n",
    "# # from tensorflow.keras.preprocessing.sequence import TimeseriesGenerator\n",
    "# # from dateutil import parser\n",
    "# # from pickle import dump\n",
    "# # from pickle import load\n",
    "# # from keras.models import load_model\n",
    "# # # importing libraries\n",
    "# # import streamlit as st\n",
    "# # import datareader as datareader\n",
    "# # import numpy as np\n",
    "# # import pandas as pd\n",
    "# # import matplotlib.pyplot as plt\n",
    "# # import pandas_datareader as web\n",
    "# # from datetime import datetime, timedelta\n",
    "# # import datetime as dt\n",
    "# # from sklearn.preprocessing import MinMaxScaler\n",
    "# # from keras.layers import Dense, Dropout, LSTM\n",
    "# # from tensorflow.python.keras.models import Sequential\n",
    "# # from tensorflow.keras.preprocessing.sequence import TimeseriesGenerator\n",
    "# # from dateutil import parser\n",
    "# # from pickle import dump\n",
    "# # from pickle import load\n",
    "# # from keras.models import load_model"
   ]
  },
  {
   "cell_type": "code",
   "execution_count": 420,
   "metadata": {},
   "outputs": [
    {
     "name": "stdout",
     "output_type": "stream",
     "text": [
      "DatetimeIndex(['2024-05-01', '2024-05-02', '2024-05-03'], dtype='datetime64[ns]', freq='D')\n",
      "       dates     n1           n2\n",
      "0 2024-05-01   3.00    62.200000\n",
      "1 2024-05-02  53.10  5213.234321\n",
      "2 2024-05-03   5.23     2.000000\n"
     ]
    },
    {
     "data": {
      "text/plain": [
       "array([[ 3.  ],\n",
       "       [53.1 ],\n",
       "       [ 5.23]])"
      ]
     },
     "execution_count": 420,
     "metadata": {},
     "output_type": "execute_result"
    }
   ],
   "source": [
    "import yfinance as yf # type: ignore\n",
    "import pandas as pd # type: ignore\n",
    "import numpy as np # type: ignore # type: ignore\n",
    "from datetime import datetime, timedelta\n",
    "import datetime as dt\n",
    "from numpy import random # type: ignore\n",
    "\n",
    "random.seed(2)\n",
    "# aapl_df = yf.download('AAPL', \n",
    "#                       start='2019-01-01', \n",
    "#                       end='2023-02-03', \n",
    "#                       progress=False,\n",
    "# )\n",
    "# aapl_df.head()\n",
    "# print(aapl_df.head())\n",
    "\n",
    "start_date='2024-05-01'\n",
    "end_date='2024-05-03'\n",
    "dates = pd.date_range(start_date, end_date, freq='D')\n",
    "print((dates))\n",
    "l1 = [3,53.1,5.23]\n",
    "l2 = [62.2,5213.234321,2]\n",
    "\n",
    "n1 = np.array(l1).reshape(-1,1)\n",
    "n2 = np.array(l2)\n",
    "n1, n2, dates\n",
    "df1 = pd.DataFrame({'dates':dates,'n1':n1.reshape(-1,),'n2':n2.reshape(-1,)})\n",
    "print(df1)\n",
    "df1.set_index('dates',inplace=True)\n",
    "df1\n",
    "n1.shape, n2.shape,df1\n",
    "n1\n"
   ]
  },
  {
   "cell_type": "code",
   "execution_count": 421,
   "metadata": {},
   "outputs": [],
   "source": [
    "l1 = [3,5,5,3,6,32,31,0,42]\n",
    "l2 = [62.2,5213.234321,2]\n",
    "n4 = random.randint(30,size=10)\n",
    "n5 = random.randint(30,size=10)\n",
    "n4, n5\n",
    "n6 = np.concatenate((n4,n5))\n",
    "l1 = [3,5,7]\n",
    "l2 = [3,7,2]\n",
    "l3 = [[3,5,7],\n",
    "      [3,7,2]]"
   ]
  },
  {
   "cell_type": "code",
   "execution_count": 422,
   "metadata": {},
   "outputs": [
    {
     "name": "stdout",
     "output_type": "stream",
     "text": [
      "DatetimeIndex(['2024-05-01', '2024-05-02', '2024-05-03', '2024-05-04',\n",
      "               '2024-05-05', '2024-05-06', '2024-05-07', '2024-05-08',\n",
      "               '2024-05-09', '2024-05-10'],\n",
      "              dtype='datetime64[ns]', freq='D')\n"
     ]
    },
    {
     "data": {
      "image/png": "[encoded data removed]",
      "text/plain": [
       "<Figure size 640x480 with 1 Axes>"
      ]
     },
     "metadata": {},
     "output_type": "display_data"
    }
   ],
   "source": [
    "import matplotlib.pyplot as plt # type: ignore\n",
    "\n",
    "n4 = random.randint(30,size=10)\n",
    "n5 = random.randint(30,size=6)\n",
    "n6 = random.randint(30,size=6)\n",
    "n1 = np.arange(6)\n",
    "\n",
    "start_date='2024-05-01'\n",
    "end_date='2024-05-10'\n",
    "dates = pd.date_range(start_date, end_date, freq='D')\n",
    "print((dates))\n",
    "\n",
    "x = [1,2,3,4,5,6]\n",
    "x1 = [1,2,3,4,5,6,7,8,9,10]\n",
    "x1 = np.arange(10)\n",
    "# corresponding y axis values\n",
    "y = [2,4,1,5,2,6]\n",
    "look_back = 4\n",
    "len1 = len(n4)\n",
    "t= np.arange(len1) \n",
    "plt.plot(t[look_back:],n5, marker='.')\n",
    "plt.plot(t[:],n4, marker='.')\n",
    "plt.show()\n"
   ]
  },
  {
   "cell_type": "code",
   "execution_count": 423,
   "metadata": {},
   "outputs": [
    {
     "name": "stdout",
     "output_type": "stream",
     "text": [
      "(10,)\n"
     ]
    },
    {
     "data": {
      "text/plain": [
       "((14,), (14,))"
      ]
     },
     "execution_count": 423,
     "metadata": {},
     "output_type": "execute_result"
    }
   ],
   "source": [
    "start_date='2024-05-01'\n",
    "end_date='2024-05-14'\n",
    "dates1 = pd.date_range(start_date, end_date, freq='D')\n",
    "\n",
    "\n",
    "n1 = random.randint(30,size=10)\n",
    "print(n1.shape)\n",
    "n2 = random.randint(30,size=4)\n",
    "temp1 = np.full(len(n2), np.nan)\n",
    "n3 = np.concatenate([n1,temp1])\n",
    "temp2 = np.full(len(n1), np.nan)\n",
    "n4 = np.concatenate([temp2, n2])\n",
    "n3.shape,n4.shape\n",
    "#print(n4,n3,temp1,temp2)"
   ]
  },
  {
   "cell_type": "code",
   "execution_count": 424,
   "metadata": {},
   "outputs": [
    {
     "name": "stdout",
     "output_type": "stream",
     "text": [
      "14\n"
     ]
    },
    {
     "data": {
      "image/png": "[encoded data removed]",
      "text/plain": [
       "<Figure size 1600x800 with 1 Axes>"
      ]
     },
     "metadata": {},
     "output_type": "display_data"
    },
    {
     "data": {
      "text/html": [
       "<div>\n",
       "<style scoped>\n",
       "    .dataframe tbody tr th:only-of-type {\n",
       "        vertical-align: middle;\n",
       "    }\n",
       "\n",
       "    .dataframe tbody tr th {\n",
       "        vertical-align: top;\n",
       "    }\n",
       "\n",
       "    .dataframe thead th {\n",
       "        text-align: right;\n",
       "    }\n",
       "</style>\n",
       "<table border=\"1\" class=\"dataframe\">\n",
       "  <thead>\n",
       "    <tr style=\"text-align: right;\">\n",
       "      <th></th>\n",
       "      <th>Prediction</th>\n",
       "      <th>Actual</th>\n",
       "    </tr>\n",
       "    <tr>\n",
       "      <th>dates</th>\n",
       "      <th></th>\n",
       "      <th></th>\n",
       "    </tr>\n",
       "  </thead>\n",
       "  <tbody>\n",
       "    <tr>\n",
       "      <th>2024-05-01</th>\n",
       "      <td>16.0</td>\n",
       "      <td>NaN</td>\n",
       "    </tr>\n",
       "    <tr>\n",
       "      <th>2024-05-02</th>\n",
       "      <td>20.0</td>\n",
       "      <td>NaN</td>\n",
       "    </tr>\n",
       "    <tr>\n",
       "      <th>2024-05-03</th>\n",
       "      <td>14.0</td>\n",
       "      <td>NaN</td>\n",
       "    </tr>\n",
       "    <tr>\n",
       "      <th>2024-05-04</th>\n",
       "      <td>12.0</td>\n",
       "      <td>NaN</td>\n",
       "    </tr>\n",
       "    <tr>\n",
       "      <th>2024-05-05</th>\n",
       "      <td>18.0</td>\n",
       "      <td>NaN</td>\n",
       "    </tr>\n",
       "    <tr>\n",
       "      <th>2024-05-06</th>\n",
       "      <td>4.0</td>\n",
       "      <td>NaN</td>\n",
       "    </tr>\n",
       "    <tr>\n",
       "      <th>2024-05-07</th>\n",
       "      <td>26.0</td>\n",
       "      <td>NaN</td>\n",
       "    </tr>\n",
       "    <tr>\n",
       "      <th>2024-05-08</th>\n",
       "      <td>15.0</td>\n",
       "      <td>NaN</td>\n",
       "    </tr>\n",
       "    <tr>\n",
       "      <th>2024-05-09</th>\n",
       "      <td>17.0</td>\n",
       "      <td>NaN</td>\n",
       "    </tr>\n",
       "    <tr>\n",
       "      <th>2024-05-10</th>\n",
       "      <td>7.0</td>\n",
       "      <td>NaN</td>\n",
       "    </tr>\n",
       "    <tr>\n",
       "      <th>2024-05-11</th>\n",
       "      <td>NaN</td>\n",
       "      <td>14.0</td>\n",
       "    </tr>\n",
       "    <tr>\n",
       "      <th>2024-05-12</th>\n",
       "      <td>NaN</td>\n",
       "      <td>8.0</td>\n",
       "    </tr>\n",
       "    <tr>\n",
       "      <th>2024-05-13</th>\n",
       "      <td>NaN</td>\n",
       "      <td>18.0</td>\n",
       "    </tr>\n",
       "    <tr>\n",
       "      <th>2024-05-14</th>\n",
       "      <td>NaN</td>\n",
       "      <td>13.0</td>\n",
       "    </tr>\n",
       "  </tbody>\n",
       "</table>\n",
       "</div>"
      ],
      "text/plain": [
       "            Prediction  Actual\n",
       "dates                         \n",
       "2024-05-01        16.0     NaN\n",
       "2024-05-02        20.0     NaN\n",
       "2024-05-03        14.0     NaN\n",
       "2024-05-04        12.0     NaN\n",
       "2024-05-05        18.0     NaN\n",
       "2024-05-06         4.0     NaN\n",
       "2024-05-07        26.0     NaN\n",
       "2024-05-08        15.0     NaN\n",
       "2024-05-09        17.0     NaN\n",
       "2024-05-10         7.0     NaN\n",
       "2024-05-11         NaN    14.0\n",
       "2024-05-12         NaN     8.0\n",
       "2024-05-13         NaN    18.0\n",
       "2024-05-14         NaN    13.0"
      ]
     },
     "execution_count": 424,
     "metadata": {},
     "output_type": "execute_result"
    }
   ],
   "source": [
    "a_date = start_date\n",
    "b_date = end_date\n",
    "dates1 = pd.date_range(a_date, b_date, freq='D')\n",
    "print(len(dates1))\n",
    "\n",
    "# Ploting with dates: Predict the model on custom test data and plot the actual vs predicted prices graph\n",
    "#dates = pd.date_range(start_date, end_date, freq='D')\n",
    "df = pd.DataFrame({'dates':dates1,'Prediction':n3.reshape(-1,),'Actual':n4.reshape(-1,)})\n",
    "df.set_index('dates',inplace=True)\n",
    "df\n",
    "\n",
    "# t = np.arange(14) \n",
    "# plt.plot(dates1[:], np.array(df.loc['Actual'].reshape(-1,)), marker='.')\n",
    "# plt.plot(dates1[:], np.array(df.loc['Prediction'].reshape(-1,)), marker='.')\n",
    "# plt.show()\n",
    "\n",
    "plt.figure(figsize=(16,8))\n",
    "plt.plot(df.loc[:,'Prediction'], color='orange', label='Prediction Prices')\n",
    "plt.plot(df.loc[:,'Actual'], color='green',label='Ground Truth Prices')\n",
    "plt.show()\n",
    "df\n",
    "\n",
    "\n",
    "# plt.figure(figsize=(16,8))\n",
    "# plt.plot(df.iloc[:,0], color='orange', label='Prediction Prices')\n",
    "# plt.plot(df.iloc[:,1], color='green',label='Ground Truth Prices')\n",
    "# plt.title('crypto_currency price prediction', fontsize=24)\n",
    "# plt.xlabel('Time', fontsize=24)\n",
    "# plt.ylabel('Price in against_currency', fontsize=24)\n",
    "# plt.legend(loc='upper right')\n",
    "# plt.show()\n"
   ]
  },
  {
   "cell_type": "code",
   "execution_count": 425,
   "metadata": {},
   "outputs": [],
   "source": [
    "\n",
    "dt1 ='2024-05-01'\n",
    "dt2 ='2024-05-03'\n",
    "custom_test_dates = pd.date_range(dt1, dt2, freq='D') \n",
    "dt1 = dt.datetime.strptime(dt1, '%Y-%m-%d').date()\n",
    "dt2 = dt.datetime.strptime(dt2, '%Y-%m-%d').date()\n",
    "dt3 = dt2 + dt.timedelta(days=1) \n",
    "\n",
    "\n",
    "data = yf.download('BTC-USD', start=dt1, end=dt3, progress=False,)          # whole data from yf in data df to plot"
   ]
  },
  {
   "cell_type": "code",
   "execution_count": null,
   "metadata": {},
   "outputs": [],
   "source": [
    "\n"
   ]
  },
  {
   "cell_type": "code",
   "execution_count": 426,
   "metadata": {},
   "outputs": [
    {
     "data": {
      "text/html": [
       "<div>\n",
       "<style scoped>\n",
       "    .dataframe tbody tr th:only-of-type {\n",
       "        vertical-align: middle;\n",
       "    }\n",
       "\n",
       "    .dataframe tbody tr th {\n",
       "        vertical-align: top;\n",
       "    }\n",
       "\n",
       "    .dataframe thead th {\n",
       "        text-align: right;\n",
       "    }\n",
       "</style>\n",
       "<table border=\"1\" class=\"dataframe\">\n",
       "  <thead>\n",
       "    <tr style=\"text-align: right;\">\n",
       "      <th></th>\n",
       "      <th>Open</th>\n",
       "      <th>High</th>\n",
       "      <th>Low</th>\n",
       "      <th>Close</th>\n",
       "      <th>Adj Close</th>\n",
       "      <th>Volume</th>\n",
       "    </tr>\n",
       "    <tr>\n",
       "      <th>Date</th>\n",
       "      <th></th>\n",
       "      <th></th>\n",
       "      <th></th>\n",
       "      <th></th>\n",
       "      <th></th>\n",
       "      <th></th>\n",
       "    </tr>\n",
       "  </thead>\n",
       "  <tbody>\n",
       "    <tr>\n",
       "      <th>2024-06-27</th>\n",
       "      <td>84413.718750</td>\n",
       "      <td>85244.695312</td>\n",
       "      <td>83191.617188</td>\n",
       "      <td>83342.343750</td>\n",
       "      <td>83342.343750</td>\n",
       "      <td>30844657248</td>\n",
       "    </tr>\n",
       "    <tr>\n",
       "      <th>2024-06-28</th>\n",
       "      <td>83342.273438</td>\n",
       "      <td>85243.421875</td>\n",
       "      <td>82959.796875</td>\n",
       "      <td>84396.117188</td>\n",
       "      <td>84396.117188</td>\n",
       "      <td>29086641441</td>\n",
       "    </tr>\n",
       "    <tr>\n",
       "      <th>2024-06-29</th>\n",
       "      <td>84407.078125</td>\n",
       "      <td>85317.273438</td>\n",
       "      <td>82070.773438</td>\n",
       "      <td>82605.406250</td>\n",
       "      <td>82605.406250</td>\n",
       "      <td>34171703545</td>\n",
       "    </tr>\n",
       "    <tr>\n",
       "      <th>2024-06-30</th>\n",
       "      <td>82605.046875</td>\n",
       "      <td>83657.921875</td>\n",
       "      <td>82579.156250</td>\n",
       "      <td>83382.226562</td>\n",
       "      <td>83382.226562</td>\n",
       "      <td>17327518555</td>\n",
       "    </tr>\n",
       "    <tr>\n",
       "      <th>2024-07-01</th>\n",
       "      <td>83383.679688</td>\n",
       "      <td>85997.265625</td>\n",
       "      <td>83033.796875</td>\n",
       "      <td>85711.000000</td>\n",
       "      <td>85711.000000</td>\n",
       "      <td>23702753784</td>\n",
       "    </tr>\n",
       "  </tbody>\n",
       "</table>\n",
       "</div>"
      ],
      "text/plain": [
       "                    Open          High           Low         Close  \\\n",
       "Date                                                                 \n",
       "2024-06-27  84413.718750  85244.695312  83191.617188  83342.343750   \n",
       "2024-06-28  83342.273438  85243.421875  82959.796875  84396.117188   \n",
       "2024-06-29  84407.078125  85317.273438  82070.773438  82605.406250   \n",
       "2024-06-30  82605.046875  83657.921875  82579.156250  83382.226562   \n",
       "2024-07-01  83383.679688  85997.265625  83033.796875  85711.000000   \n",
       "\n",
       "               Adj Close       Volume  \n",
       "Date                                   \n",
       "2024-06-27  83342.343750  30844657248  \n",
       "2024-06-28  84396.117188  29086641441  \n",
       "2024-06-29  82605.406250  34171703545  \n",
       "2024-06-30  83382.226562  17327518555  \n",
       "2024-07-01  85711.000000  23702753784  "
      ]
     },
     "execution_count": 426,
     "metadata": {},
     "output_type": "execute_result"
    }
   ],
   "source": [
    "dt1 ='2024-06-27'\n",
    "dt2 ='2024-07-02'\n",
    "custom_test_dates = pd.date_range(dt1, dt2, freq='D') \n",
    "dt1 = dt.datetime.strptime(dt1, '%Y-%m-%d').date()\n",
    "dt2 = dt.datetime.strptime(dt2, '%Y-%m-%d').date()\n",
    "#dt3 = dt2 + dt.timedelta(days=1) \n",
    "dt3 = dt2\n",
    "\n",
    "\n",
    "data = yf.download('BTC-CAD', start=dt1, end=dt3, progress=False,)          # whole data from yf in data df to plot\n",
    "len(custom_test_dates)\n",
    "len(data)\n",
    "data"
   ]
  },
  {
   "cell_type": "code",
   "execution_count": 427,
   "metadata": {},
   "outputs": [
    {
     "name": "stdout",
     "output_type": "stream",
     "text": [
      "[16 20 14 12 18  4 26 15 17  7]\n"
     ]
    }
   ],
   "source": [
    "start_date='2024-05-01'\n",
    "end_date='2024-05-10'\n",
    "dates1 = pd.date_range(start_date, end_date, freq='D')\n",
    "dates1[:2,],dates1\n",
    "print(n1)"
   ]
  },
  {
   "cell_type": "code",
   "execution_count": 428,
   "metadata": {},
   "outputs": [
    {
     "data": {
      "text/plain": [
       "3"
      ]
     },
     "execution_count": 428,
     "metadata": {},
     "output_type": "execute_result"
    }
   ],
   "source": [
    "dt1 = dt.datetime.strptime('2024-07-1', '%Y-%m-%d').date()\n",
    "today = dt.datetime.now().date()\n",
    "delta = abs((dt1 - today).days) \n",
    "delta"
   ]
  },
  {
   "cell_type": "code",
   "execution_count": 429,
   "metadata": {},
   "outputs": [
    {
     "data": {
      "text/plain": [
       "array([[ 1],\n",
       "       [26],\n",
       "       [28],\n",
       "       [ 3],\n",
       "       [ 5],\n",
       "       [24],\n",
       "       [ 4],\n",
       "       [14],\n",
       "       [ 6],\n",
       "       [19],\n",
       "       [25],\n",
       "       [ 2]])"
      ]
     },
     "execution_count": 429,
     "metadata": {},
     "output_type": "execute_result"
    }
   ],
   "source": [
    "temp1 = np.array([])\n",
    "temp1\n",
    "temp2 = np.concatenate([n5,n6])\n",
    "type(temp2)\n",
    "temp2.shape\n",
    "temp2\n",
    "n5 = n5.reshape(-1,1)\n",
    "n6 = n6.reshape(-1,1)\n",
    "n7 = np.vstack([n5,n6])\n",
    "n7"
   ]
  },
  {
   "cell_type": "code",
   "execution_count": 430,
   "metadata": {},
   "outputs": [
    {
     "data": {
      "text/plain": [
       "datetime.date(2019, 12, 4)"
      ]
     },
     "execution_count": 430,
     "metadata": {},
     "output_type": "execute_result"
    }
   ],
   "source": [
    "d1 = (dt.datetime.now() + dt.timedelta(days=15)).date()\n",
    "d1.strftime(\"%Y-%m-%d\")\n",
    "dt.datetime.fromisoformat('2019-12-04').date()"
   ]
  },
  {
   "cell_type": "code",
   "execution_count": 431,
   "metadata": {},
   "outputs": [
    {
     "data": {
      "text/plain": [
       "'2024-09-02'"
      ]
     },
     "execution_count": 431,
     "metadata": {},
     "output_type": "execute_result"
    }
   ],
   "source": [
    "default_date_after_2_month = (today + dt.timedelta(days=60)).strftime(\"%Y-%m-%d\")             # default dates mainly for streamlit date selector\n",
    "recursive_date = default_date_after_2_month\n",
    "recursive_date"
   ]
  },
  {
   "cell_type": "code",
   "execution_count": 432,
   "metadata": {},
   "outputs": [
    {
     "name": "stdout",
     "output_type": "stream",
     "text": [
      "2024-06-30 2024-07-01 2024-07-02\n",
      "                   Open         High          Low        Close    Adj Close  \\\n",
      "Date                                                                          \n",
      "2024-06-27  4637.209473  4671.571777  4560.291504  4617.895508  4617.895508   \n",
      "2024-06-28  4617.085449  4749.639160  4609.345215  4719.238770  4719.238770   \n",
      "2024-06-29  4720.195312  4781.125488  4605.386719  4620.025879  4620.025879   \n",
      "2024-06-30  4620.099609  4658.499512  4614.434082  4619.110840  4619.110840   \n",
      "\n",
      "                 Volume  \n",
      "Date                     \n",
      "2024-06-27  16026794827  \n",
      "2024-06-28  16126941729  \n",
      "2024-06-29  17612713979  \n",
      "2024-06-30   9017543406  \n"
     ]
    }
   ],
   "source": [
    "dt1 ='2024-06-27'\n",
    "dt2 ='2024-06-30'\n",
    "custom_test_dates = pd.date_range(dt1, dt2, freq='D') \n",
    "dt1 = dt.datetime.strptime(dt1, '%Y-%m-%d').date()\n",
    "dt2 = dt.datetime.strptime(dt2, '%Y-%m-%d').date()\n",
    "dt3 = dt2 + timedelta(days=1) \n",
    "dt4 = dt3 + timedelta(days=1) \n",
    "\n",
    "\n",
    "\n",
    "data = yf.download('ETH-CAD', start=dt1, end=dt3, progress=False,)          # whole data from yf in data df to plot\n",
    "len(custom_test_dates)\n",
    "len(data)\n",
    "print(dt2,dt3,dt4)\n",
    "print(data.head())"
   ]
  },
  {
   "cell_type": "code",
   "execution_count": 433,
   "metadata": {},
   "outputs": [
    {
     "name": "stdout",
     "output_type": "stream",
     "text": [
      "2024-07-07 00:00:00\n"
     ]
    }
   ],
   "source": [
    "from datetime import datetime, timedelta\n",
    "\n",
    "today = datetime.now()\n",
    "today ='2024-06-27'\n",
    "today = datetime.strptime(today, '%Y-%m-%d')\n",
    "future_date = today + timedelta(days=10)\n",
    "print(future_date)"
   ]
  },
  {
   "cell_type": "code",
   "execution_count": 434,
   "metadata": {},
   "outputs": [
    {
     "data": {
      "text/plain": [
       "(datetime.datetime(2024, 7, 4, 0, 0), datetime.datetime(2024, 6, 30, 0, 0))"
      ]
     },
     "execution_count": 434,
     "metadata": {},
     "output_type": "execute_result"
    }
   ],
   "source": [
    "a = dt.datetime.now(dt.UTC).strftime('%y-%m-%d')\n",
    "start = dt.datetime(2024,6,30)\n",
    "end = dt.datetime(2024,7,30)\n",
    "start\n",
    "start\n",
    "dt.datetime.strptime(a,'%y-%m-%d') > start\n",
    "dt.datetime.strptime(a,'%y-%m-%d') , start\n",
    "# to consider today as UTC-today, since we have data coming from UTC day, \n",
    "#def today()"
   ]
  },
  {
   "cell_type": "code",
   "execution_count": 435,
   "metadata": {},
   "outputs": [],
   "source": [
    "# dt.datetime.now() + dt.timedelta(days=14)\n",
    "# abs((dt2 - today).days) \n",
    "# dRan1 = pd.date_range(start ='2024-7-1', periods = 13, freq= 'D')\n",
    "# dRan1"
   ]
  },
  {
   "cell_type": "code",
   "execution_count": 436,
   "metadata": {},
   "outputs": [],
   "source": [
    "# pd.Timestamp.now()\n",
    "# pd.Timestamp.utcnow()\n",
    "# print(start)\n",
    "# start.tzinfo\n",
    "# dt.datetime.tzinfo()"
   ]
  },
  {
   "cell_type": "code",
   "execution_count": 437,
   "metadata": {},
   "outputs": [
    {
     "data": {
      "text/plain": [
       "DatetimeIndex(['2024-06-30', '2024-07-01', '2024-07-02', '2024-07-03',\n",
       "               '2024-07-04', '2024-07-05', '2024-07-06', '2024-07-07',\n",
       "               '2024-07-08', '2024-07-09', '2024-07-10', '2024-07-11',\n",
       "               '2024-07-12', '2024-07-13', '2024-07-14', '2024-07-15',\n",
       "               '2024-07-16', '2024-07-17', '2024-07-18', '2024-07-19',\n",
       "               '2024-07-20', '2024-07-21', '2024-07-22', '2024-07-23',\n",
       "               '2024-07-24', '2024-07-25', '2024-07-26', '2024-07-27',\n",
       "               '2024-07-28', '2024-07-29', '2024-07-30'],\n",
       "              dtype='datetime64[ns]', freq='D')"
      ]
     },
     "execution_count": 437,
     "metadata": {},
     "output_type": "execute_result"
    }
   ],
   "source": [
    "dates1 = pd.date_range(start, end, freq='D',tz=None)\n",
    "dates1"
   ]
  },
  {
   "cell_type": "code",
   "execution_count": 438,
   "metadata": {},
   "outputs": [
    {
     "data": {
      "text/plain": [
       "DatetimeIndex(['2022-01-01 00:00:00+00:00', '2022-01-02 00:00:00+00:00',\n",
       "               '2022-01-03 00:00:00+00:00', '2022-01-04 00:00:00+00:00',\n",
       "               '2022-01-05 00:00:00+00:00', '2022-01-06 00:00:00+00:00',\n",
       "               '2022-01-07 00:00:00+00:00', '2022-01-08 00:00:00+00:00',\n",
       "               '2022-01-09 00:00:00+00:00', '2022-01-10 00:00:00+00:00',\n",
       "               '2022-01-11 00:00:00+00:00', '2022-01-12 00:00:00+00:00',\n",
       "               '2022-01-13 00:00:00+00:00', '2022-01-14 00:00:00+00:00',\n",
       "               '2022-01-15 00:00:00+00:00', '2022-01-16 00:00:00+00:00',\n",
       "               '2022-01-17 00:00:00+00:00', '2022-01-18 00:00:00+00:00',\n",
       "               '2022-01-19 00:00:00+00:00', '2022-01-20 00:00:00+00:00',\n",
       "               '2022-01-21 00:00:00+00:00', '2022-01-22 00:00:00+00:00',\n",
       "               '2022-01-23 00:00:00+00:00', '2022-01-24 00:00:00+00:00',\n",
       "               '2022-01-25 00:00:00+00:00', '2022-01-26 00:00:00+00:00',\n",
       "               '2022-01-27 00:00:00+00:00', '2022-01-28 00:00:00+00:00',\n",
       "               '2022-01-29 00:00:00+00:00', '2022-01-30 00:00:00+00:00',\n",
       "               '2022-01-31 00:00:00+00:00', '2022-02-01 00:00:00+00:00',\n",
       "               '2022-02-02 00:00:00+00:00'],\n",
       "              dtype='datetime64[ns, UTC]', freq='D')"
      ]
     },
     "execution_count": 438,
     "metadata": {},
     "output_type": "execute_result"
    }
   ],
   "source": [
    "dates_df = pd.date_range(start='01/01/2022', end='02/02/2022', freq='D',tz='UTC')\n",
    "dates_df"
   ]
  },
  {
   "cell_type": "code",
   "execution_count": 439,
   "metadata": {},
   "outputs": [
    {
     "data": {
      "text/plain": [
       "datetime.date(1923, 10, 26)"
      ]
     },
     "execution_count": 439,
     "metadata": {},
     "output_type": "execute_result"
    }
   ],
   "source": [
    "# n1 = np.array([4])\n",
    "# n1[-1]\n",
    "start = dt.datetime(2021,1,1)                           # start, end for whole dataframe for training/testing whole\n",
    "#today1 = dt.datetime.now() - dt.timedelta(years=1)\n",
    "#today1\n",
    "from calendar import isleap\n",
    "from datetime import datetime\n",
    "\n",
    "\n",
    "def subtract_years(dt, years):\n",
    "    \"\"\"Subtract years from a date or datetime.\"\"\"\n",
    "    year = dt.year - years\n",
    "    # if leap day and the new year is not leap, replace year and day\n",
    "    # otherwise, only replace year\n",
    "    if dt.month == 2 and dt.day == 29 and not isleap(year):\n",
    "        return dt.replace(year=year, day=28)\n",
    "    return dt.replace(year=year)\n",
    "\n",
    "a = subtract_years(datetime(2023, 10, 26), years = 100)  # 1923-10-26 00:00:00\n",
    "a.date()\n"
   ]
  },
  {
   "cell_type": "code",
   "execution_count": 440,
   "metadata": {},
   "outputs": [
    {
     "data": {
      "text/plain": [
       "(array([22, 24, 26]), array([26, 15,  9, 13,  8, 23, 17, 22, 24, 26]))"
      ]
     },
     "execution_count": 440,
     "metadata": {},
     "output_type": "execute_result"
    }
   ],
   "source": [
    "n1 = np.array([4])\n",
    "n1 = random.randint(30,size=10)\n",
    "n1[-3:],n1"
   ]
  },
  {
   "cell_type": "code",
   "execution_count": 441,
   "metadata": {},
   "outputs": [
    {
     "data": {
      "text/plain": [
       "(datetime.date(2024, 5, 6),\n",
       " datetime.date(2024, 7, 7),\n",
       " datetime.date(2024, 7, 8))"
      ]
     },
     "execution_count": 441,
     "metadata": {},
     "output_type": "execute_result"
    }
   ],
   "source": [
    "# dt1 ='2024-06-27'\n",
    "# dt2 ='2024-06-30'\n",
    "# custom_test_dates = pd.date_range(dt1, dt2, freq='D') \n",
    "# dt1 = dt.datetime.strptime(dt1, '%Y-%m-%d').date()\n",
    "# dt2 = dt.datetime.strptime(dt2, '%Y-%m-%d').date()\n",
    "# dt3 = dt2 + timedelta(days=1) \n",
    "# dt4 = dt3 + timedelta(days=1) \n",
    "#--------------------------------------------------\n",
    "dt4 ='2024-07-05'\n",
    "dt4 = dt.datetime.strptime(dt4, '%Y-%m-%d').date()\n",
    "dt2 ='2024-07-07'\n",
    "dt2 = dt.datetime.strptime(dt2, '%Y-%m-%d').date()\n",
    "dt0 = dt4\n",
    "dt1 = dt2\n",
    "\n",
    "\n",
    "#dt1 ='2024-06-27'\n",
    "today = dt.datetime.now().date()\n",
    "dt1_plus_one =  dt1 + dt.timedelta(days=1)\n",
    "dt3 = dt0 - timedelta(days=60)\n",
    "\n",
    "\n",
    "# data = yf.download('BTC-CAD', start=dt3, end=dt1_plus_one, progress=False,)          # whole data from yf in data df to plot\n",
    "# data = yf.download('BTC-CAD', start=dt3, end=dt1_plus_one, progress=False,)          # whole data from yf in data df to plot\n",
    "# len(custom_test_dates)\n",
    "# len(data)\n",
    "dt3, dt1, dt1_plus_one\n"
   ]
  },
  {
   "cell_type": "code",
   "execution_count": 442,
   "metadata": {},
   "outputs": [
    {
     "name": "stdout",
     "output_type": "stream",
     "text": [
      "60\n",
      "Date\n",
      "2024-06-30    4619.110840\n",
      "2024-07-01    4694.390137\n",
      "2024-07-02    4726.544434\n",
      "2024-07-03    4672.753418\n",
      "2024-07-04    4294.201660\n",
      "Name: Close, dtype: float64\n"
     ]
    }
   ],
   "source": [
    "dt1 ='2024-05-06'\n",
    "dt2 ='2024-07-05'\n",
    "\n",
    "dt1 = dt.datetime.strptime(dt1, '%Y-%m-%d').date()\n",
    "dt2 = dt.datetime.strptime(dt2, '%Y-%m-%d').date()\n",
    "\n",
    "\n",
    "\n",
    "\n",
    "data = yf.download('ETH-CAD', start=dt1, end=dt2, progress=False,)          # whole data from yf in data df to plot\n",
    "len(custom_test_dates)\n",
    "print(len(data))\n",
    "print(data.loc[:,'Close'].tail())"
   ]
  },
  {
   "cell_type": "code",
   "execution_count": 443,
   "metadata": {},
   "outputs": [
    {
     "data": {
      "text/plain": [
       "True"
      ]
     },
     "execution_count": 443,
     "metadata": {},
     "output_type": "execute_result"
    }
   ],
   "source": [
    "inputArray = np.array([3])\n",
    "inputArray\n",
    "np.any(inputArray)"
   ]
  },
  {
   "cell_type": "code",
   "execution_count": 444,
   "metadata": {},
   "outputs": [
    {
     "name": "stdout",
     "output_type": "stream",
     "text": [
      "arr1:\n",
      " [] \n",
      "\n",
      "arr2:\n",
      " [10 20 30] \n",
      "\n",
      "arr1 is an empty array\n",
      "arr2 is not an empty array\n"
     ]
    }
   ],
   "source": [
    "# Creating empty and non-empty arrays\n",
    "arr1 = np.array([])\n",
    "arr2 = np.array([10, 20, 30])\n",
    "\n",
    "# Printing original arrays\n",
    "print(\"arr1:\\n\", arr1, \"\\n\")\n",
    "print(\"arr2:\\n\", arr2, \"\\n\")\n",
    "\n",
    "# Check whether array is empty or not\n",
    "# using ndarray.size attribute\n",
    "if arr1.size == 0:\n",
    "    print(\"arr1 is an empty array\")\n",
    "else:\n",
    "    print(\"arr1 is not an empty array\")\n",
    "\n",
    "if arr2.size == 0:\n",
    "    print(\"arr2 is an empty array\")\n",
    "else:\n",
    "    print(\"arr2 is not an empty array\")"
   ]
  }
 ],
 "metadata": {
  "kernelspec": {
   "display_name": "venvvscdoeProject6Crypto",
   "language": "python",
   "name": "python3"
  },
  "language_info": {
   "codemirror_mode": {
    "name": "ipython",
    "version": 3
   },
   "file_extension": ".py",
   "mimetype": "text/x-python",
   "name": "python",
   "nbconvert_exporter": "python",
   "pygments_lexer": "ipython3",
   "version": "3.12.4"
  }
 },
 "nbformat": 4,
 "nbformat_minor": 2
}
