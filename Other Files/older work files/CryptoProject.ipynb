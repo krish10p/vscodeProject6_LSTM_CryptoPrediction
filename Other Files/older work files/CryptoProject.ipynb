{
 "cells": [
  {
   "cell_type": "code",
   "execution_count": 1,
   "metadata": {
    "collapsed": false,
    "pycharm": {
     "name": "#%%\n"
    }
   },
   "outputs": [],
   "source": [
    "import streamlit as st\n",
    "import datareader as datareader\n",
    "import numpy as np\n",
    "import pandas as pd\n",
    "import matplotlib.pyplot as plt\n",
    "import pandas_datareader as web\n",
    "from datetime import datetime, timedelta\n",
    "import datetime as dt\n",
    "from sklearn.preprocessing import MinMaxScaler\n",
    "from tensorflow.python.keras.layers import Dense, Dropout, LSTM\n",
    "from tensorflow.python.keras.models import Sequential\n",
    "from keras.preprocessing.sequence import TimeseriesGenerator\n",
    "from dateutil import parser\n",
    "from pickle import dump\n",
    "from pickle import load\n",
    "from keras.models import load_model"
   ]
  },
  {
   "cell_type": "code",
   "execution_count": 2,
   "metadata": {
    "collapsed": false,
    "pycharm": {
     "name": "#%%\n"
    }
   },
   "outputs": [],
   "source": [
    "#Loading the data\n",
    "global coin_name\n",
    "global start_date\n",
    "global end_date"
   ]
  },
  {
   "cell_type": "code",
   "execution_count": 3,
   "metadata": {
    "collapsed": false,
    "pycharm": {
     "name": "#%%\n"
    }
   },
   "outputs": [
    {
     "name": "stderr",
     "output_type": "stream",
     "text": [
      "2022-08-22 12:50:12.300 \n",
      "  \u001b[33m\u001b[1mWarning:\u001b[0m to view this Streamlit app on a browser, run it with the following\n",
      "  command:\n",
      "\n",
      "    streamlit run c:\\users\\krish\\appdata\\local\\programs\\python\\python38\\lib\\site-packages\\ipykernel_launcher.py [ARGUMENTS]\n"
     ]
    }
   ],
   "source": [
    "coin_list = ['BTC','ETH','HOT1','RSR','NULS','NIM','AION','QASH','VITE','APL','QRL','BCN','GBYTE','LBC','POA','PAC','ILC','BEPRO','GO','XMC']\n",
    "coin_name = st.sidebar.selectbox('Select Crypto Currency',coin_list)\n",
    "start_date = st.sidebar.date_input('Provide a starting date')\n",
    "end_date = st.sidebar.date_input('Provide an ending date')\n",
    "currency_list = ['USD','GBP','EUR','INR', 'CAD', 'AUD','JPY','CNY']\n",
    "currency = st.sidebar.selectbox('Select a Currency',currency_list)\n",
    "start_date = start_date.strftime(\"%Y-%m-%d\")\n",
    "end_date = end_date.strftime(\"%Y-%m-%d\")\n",
    "#start_date = dt.datetime.strptime(start_date, '%Y-%m-%d').date()                #converting date to date type\n",
    "#end_date = dt.datetime.strptime(end_date, '%Y-%m-%d').date()                    #converting date to date type"
   ]
  },
  {
   "cell_type": "code",
   "execution_count": 4,
   "metadata": {
    "collapsed": false,
    "pycharm": {
     "name": "#%%\n"
    }
   },
   "outputs": [
    {
     "name": "stdout",
     "output_type": "stream",
     "text": [
      "(1695, 6)\n",
      "                    High           Low          Open         Close  \\\n",
      "Date                                                                 \n",
      "2018-01-01  14112.200195  13154.700195  14112.200195  13657.200195   \n",
      "2018-01-02  15444.599609  13163.599609  13625.000000  14982.099609   \n",
      "2018-01-03  15572.799805  14844.500000  14978.200195  15201.000000   \n",
      "2018-01-04  15739.700195  14522.200195  15270.700195  15599.200195   \n",
      "2018-01-05  17705.199219  15202.799805  15477.200195  17429.500000   \n",
      "\n",
      "                 Volume     Adj Close  \n",
      "Date                                   \n",
      "2018-01-01  10291200000  13657.200195  \n",
      "2018-01-02  16846600192  14982.099609  \n",
      "2018-01-03  16871900160  15201.000000  \n",
      "2018-01-04  21783199744  15599.200195  \n",
      "2018-01-05  23840899072  17429.500000  \n",
      "<class 'pandas.core.frame.DataFrame'>\n",
      "DatetimeIndex: 1695 entries, 2018-01-01 to 2022-08-22\n",
      "Data columns (total 6 columns):\n",
      " #   Column     Non-Null Count  Dtype  \n",
      "---  ------     --------------  -----  \n",
      " 0   High       1695 non-null   float64\n",
      " 1   Low        1695 non-null   float64\n",
      " 2   Open       1695 non-null   float64\n",
      " 3   Close      1695 non-null   float64\n",
      " 4   Volume     1695 non-null   int64  \n",
      " 5   Adj Close  1695 non-null   float64\n",
      "dtypes: float64(5), int64(1)\n",
      "memory usage: 92.7 KB\n",
      "None\n"
     ]
    }
   ],
   "source": [
    "crypto_currency = coin_name\n",
    "against_currency = currency\n",
    "\n",
    "start = dt.datetime(2018,1,1)\n",
    "end = dt.datetime.now()\n",
    "\n",
    "data = web.DataReader(f'{crypto_currency}-{against_currency}','yahoo',start, end)\n",
    "data.to_csv('cryptoCoinYahoo.csv')\n",
    "#prepare data\n",
    "print(data.shape)\n",
    "print(data.head())\n",
    "print(data.info())"
   ]
  },
  {
   "cell_type": "code",
   "execution_count": 5,
   "metadata": {
    "collapsed": false,
    "pycharm": {
     "name": "#%%\n"
    }
   },
   "outputs": [
    {
     "data": {
      "text/plain": [
       "High         0\n",
       "Low          0\n",
       "Open         0\n",
       "Close        0\n",
       "Volume       0\n",
       "Adj Close    0\n",
       "dtype: int64"
      ]
     },
     "execution_count": 5,
     "metadata": {},
     "output_type": "execute_result"
    }
   ],
   "source": [
    "data.isnull()\n",
    "data.isnull().sum()"
   ]
  },
  {
   "cell_type": "code",
   "execution_count": 6,
   "metadata": {
    "collapsed": false,
    "pycharm": {
     "name": "#%%\n"
    }
   },
   "outputs": [
    {
     "name": "stdout",
     "output_type": "stream",
     "text": [
      "[[0.16198395]\n",
      " [0.18257929]\n",
      " [0.18598206]\n",
      " ...\n",
      " [0.27870792]\n",
      " [0.28442936]\n",
      " [0.27960417]]\n"
     ]
    }
   ],
   "source": [
    "scaler = MinMaxScaler(feature_range=(0,1))\n",
    "scaled_data = scaler.fit_transform(data['Close'].values.reshape(-1,1))\n",
    "#save the scaler\n",
    "dump(scaler, open('scaler_model1.pkl','wb'))\n",
    "print(scaled_data)"
   ]
  },
  {
   "cell_type": "code",
   "execution_count": 7,
   "metadata": {
    "collapsed": false,
    "pycharm": {
     "name": "#%%\n"
    }
   },
   "outputs": [
    {
     "name": "stdout",
     "output_type": "stream",
     "text": [
      "[[0.16198395 0.18257929 0.18598206 ... 0.11641272 0.11131869 0.11991653]\n",
      " [0.18257929 0.18598206 0.19217201 ... 0.11131869 0.11991653 0.12202131]\n",
      " [0.18598206 0.19217201 0.22062372 ... 0.11991653 0.12202131 0.12829053]\n",
      " ...\n",
      " [0.4398613  0.44396113 0.42874307 ... 0.66573082 0.64862847 0.68172991]\n",
      " [0.44396113 0.42874307 0.41303526 ... 0.64862847 0.68172991 0.69857826]\n",
      " [0.42874307 0.41303526 0.44884038 ... 0.68172991 0.69857826 0.69246932]]\n"
     ]
    }
   ],
   "source": [
    "global split_percent\n",
    "split_percent = 0.8\n",
    "split = int(split_percent*len(scaled_data))\n",
    "train_scaled = scaled_data[:split]\n",
    "test_scaled = scaled_data[split:]\n",
    "\n",
    "global look_back\n",
    "global future_day\n",
    "look_back = 60\n",
    "future_day = 1                                            #   future day prediction = 1st day or 61st prediction from learning 60 days\n",
    "\n",
    "#creating x_train and y_train from train_scaled\n",
    "\n",
    "x_train, y_train = [], []\n",
    "\n",
    "train_scaled1 = scaled_data[:split+future_day]\n",
    "\n",
    "for x in range(look_back,(len(train_scaled1)-future_day)):                                        # for loop in range (60, 1871)\n",
    "    x_train.append(train_scaled1[x-look_back:x,0])\n",
    "    y_train.append(train_scaled1[x:x+future_day, 0])\n",
    "\n",
    "x_train, y_train = np.array(x_train), np.array(y_train)                             #   x_train : (2352, 60), y_train :   (2352, 1)\n",
    "print(x_train)\n"
   ]
  },
  {
   "cell_type": "code",
   "execution_count": 8,
   "metadata": {
    "collapsed": false,
    "pycharm": {
     "name": "#%%\n"
    }
   },
   "outputs": [
    {
     "name": "stdout",
     "output_type": "stream",
     "text": [
      "[[0.12202131]\n",
      " [0.12829053]\n",
      " [0.1286465 ]\n",
      " ...\n",
      " [0.69857826]\n",
      " [0.69246932]\n",
      " [0.68445068]]\n"
     ]
    }
   ],
   "source": [
    "print(y_train)"
   ]
  },
  {
   "cell_type": "code",
   "execution_count": 9,
   "metadata": {
    "collapsed": false,
    "pycharm": {
     "name": "#%%\n"
    }
   },
   "outputs": [
    {
     "name": "stdout",
     "output_type": "stream",
     "text": [
      "[[[0.16198395]\n",
      "  [0.18257929]\n",
      "  [0.18598206]\n",
      "  ...\n",
      "  [0.11641272]\n",
      "  [0.11131869]\n",
      "  [0.11991653]]\n",
      "\n",
      " [[0.18257929]\n",
      "  [0.18598206]\n",
      "  [0.19217201]\n",
      "  ...\n",
      "  [0.11131869]\n",
      "  [0.11991653]\n",
      "  [0.12202131]]\n",
      "\n",
      " [[0.18598206]\n",
      "  [0.19217201]\n",
      "  [0.22062372]\n",
      "  ...\n",
      "  [0.11991653]\n",
      "  [0.12202131]\n",
      "  [0.12829053]]\n",
      "\n",
      " ...\n",
      "\n",
      " [[0.4398613 ]\n",
      "  [0.44396113]\n",
      "  [0.42874307]\n",
      "  ...\n",
      "  [0.66573082]\n",
      "  [0.64862847]\n",
      "  [0.68172991]]\n",
      "\n",
      " [[0.44396113]\n",
      "  [0.42874307]\n",
      "  [0.41303526]\n",
      "  ...\n",
      "  [0.64862847]\n",
      "  [0.68172991]\n",
      "  [0.69857826]]\n",
      "\n",
      " [[0.42874307]\n",
      "  [0.41303526]\n",
      "  [0.44884038]\n",
      "  ...\n",
      "  [0.68172991]\n",
      "  [0.69857826]\n",
      "  [0.69246932]]]\n"
     ]
    }
   ],
   "source": [
    "x_train = np.reshape(x_train, (x_train.shape[0], x_train.shape[1], 1))              #   x_train after reshaping : (2352,60, 1) and converting into 3d array because LSTM receives input in 3D or 3 dimensional array\n",
    "print(x_train)"
   ]
  },
  {
   "cell_type": "code",
   "execution_count": 10,
   "metadata": {
    "collapsed": false,
    "pycharm": {
     "name": "#%%\n"
    }
   },
   "outputs": [
    {
     "name": "stdout",
     "output_type": "stream",
     "text": [
      "[[0.41303526 0.44884038 0.45198684 ... 0.69857826 0.69246932 0.68445068]\n",
      " [0.44884038 0.45198684 0.47170461 ... 0.69246932 0.68445068 0.70016408]\n",
      " [0.45198684 0.47170461 0.48275535 ... 0.68445068 0.70016408 0.68433719]\n",
      " ...\n",
      " [0.26990141 0.27162782 0.26038008 ... 0.32094681 0.31243923 0.31052318]\n",
      " [0.27162782 0.26038008 0.27746148 ... 0.31243923 0.31052318 0.27422311]\n",
      " [0.26038008 0.27746148 0.27972759 ... 0.31052318 0.27422311 0.27870792]]\n"
     ]
    }
   ],
   "source": [
    "#creating x_test and y_test from test_scaled\n",
    "test_scaled1 = scaled_data[split-look_back:,:]\n",
    "\n",
    "x_test = []\n",
    "y_test = []\n",
    "\n",
    "for x in range(look_back,len(test_scaled1)-future_day):                         #   (60, 483-6))\n",
    "    x_test.append(test_scaled1[x-look_back:x,0])\n",
    "    y_test.append(test_scaled1[x:x+future_day, 0])\n",
    "\n",
    "x_test, y_test = np.array(x_test), np.array(y_test)                             #   x_train : (483, 60), y_train :   (483,1)\n",
    "print(x_test)"
   ]
  },
  {
   "cell_type": "code",
   "execution_count": 11,
   "metadata": {
    "collapsed": false,
    "pycharm": {
     "name": "#%%\n"
    }
   },
   "outputs": [
    {
     "name": "stdout",
     "output_type": "stream",
     "text": [
      "[[0.70016408]\n",
      " [0.68433719]\n",
      " [0.61568472]\n",
      " [0.58226139]\n",
      " [0.62704344]\n",
      " [0.64757179]\n",
      " [0.61562175]\n",
      " [0.61370731]\n",
      " [0.62135452]\n",
      " [0.60623237]\n",
      " [0.58756012]\n",
      " [0.59579608]\n",
      " [0.63040713]\n",
      " [0.6976548 ]\n",
      " [0.6913521 ]\n",
      " [0.6989452 ]\n",
      " [0.71313685]\n",
      " [0.75047413]\n",
      " [0.81026945]\n",
      " [0.78609001]\n",
      " [0.78860615]\n",
      " [0.80415681]\n",
      " [0.8011    ]\n",
      " [0.84327641]\n",
      " [0.82083386]\n",
      " [0.84197544]\n",
      " [0.84073847]\n",
      " [0.90715261]\n",
      " [0.89624372]\n",
      " [0.90652565]\n",
      " [0.91386998]\n",
      " [0.94862688]\n",
      " [0.97553256]\n",
      " [0.91673168]\n",
      " [0.89313609]\n",
      " [0.90403848]\n",
      " [0.89684462]\n",
      " [0.92962849]\n",
      " [0.88803004]\n",
      " [0.8587839 ]\n",
      " [0.89204595]\n",
      " [0.91700827]\n",
      " [0.91173651]\n",
      " [0.9028779 ]\n",
      " [0.89798826]\n",
      " [0.93252882]\n",
      " [0.92854381]\n",
      " [0.90494961]\n",
      " [0.89987338]\n",
      " [0.90611936]\n",
      " [0.93409241]\n",
      " [1.        ]\n",
      " [0.99075083]\n",
      " [0.96002495]\n",
      " [0.95932124]\n",
      " [0.94697834]\n",
      " [0.95185298]\n",
      " [0.96735604]\n",
      " [0.93768144]\n",
      " [0.88488148]\n",
      " [0.88809562]\n",
      " [0.83484097]\n",
      " [0.8531441 ]\n",
      " [0.87766789]\n",
      " [0.86264041]\n",
      " [0.82469256]\n",
      " [0.84458661]\n",
      " [0.82455478]\n",
      " [0.84001029]\n",
      " [0.78241803]\n",
      " [0.8017762 ]\n",
      " [0.83960267]\n",
      " [0.84827838]\n",
      " [0.83582479]\n",
      " [0.83931308]\n",
      " [0.82762319]\n",
      " [0.78286076]\n",
      " [0.71450169]\n",
      " [0.71711547]\n",
      " [0.73598344]\n",
      " [0.73780935]\n",
      " [0.73477361]\n",
      " [0.69074014]\n",
      " [0.68407427]\n",
      " [0.71701692]\n",
      " [0.72845524]\n",
      " [0.67621131]\n",
      " [0.67427058]\n",
      " [0.70977637]\n",
      " [0.69063607]\n",
      " [0.66788961]\n",
      " [0.67794141]\n",
      " [0.67573774]\n",
      " [0.67843107]\n",
      " [0.71039646]\n",
      " [0.70560708]\n",
      " [0.73912216]\n",
      " [0.73970752]\n",
      " [0.73360872]\n",
      " [0.73951041]\n",
      " [0.73688182]\n",
      " [0.68944579]\n",
      " [0.67166026]\n",
      " [0.68306106]\n",
      " [0.66951095]\n",
      " [0.69096852]\n",
      " [0.6856585 ]\n",
      " [0.67186866]\n",
      " [0.66315511]\n",
      " [0.62695788]\n",
      " [0.62061444]\n",
      " [0.59569565]\n",
      " [0.59843215]\n",
      " [0.60119384]\n",
      " [0.59978953]\n",
      " [0.61400673]\n",
      " [0.63286644]\n",
      " [0.61176384]\n",
      " [0.61966262]\n",
      " [0.62087044]\n",
      " [0.61988304]\n",
      " [0.60646275]\n",
      " [0.60840713]\n",
      " [0.59859361]\n",
      " [0.5820553 ]\n",
      " [0.5164079 ]\n",
      " [0.4942244 ]\n",
      " [0.51360188]\n",
      " [0.51947042]\n",
      " [0.52412883]\n",
      " [0.52254507]\n",
      " [0.52699266]\n",
      " [0.53703614]\n",
      " [0.54253664]\n",
      " [0.53910779]\n",
      " [0.54789875]\n",
      " [0.55194272]\n",
      " [0.52411298]\n",
      " [0.52724708]\n",
      " [0.59480917]\n",
      " [0.59388097]\n",
      " [0.60897919]\n",
      " [0.6311749 ]\n",
      " [0.63549886]\n",
      " [0.63892418]\n",
      " [0.6268974 ]\n",
      " [0.6089093 ]\n",
      " [0.60636821]\n",
      " [0.60563833]\n",
      " [0.61169152]\n",
      " [0.64259908]\n",
      " [0.63306475]\n",
      " [0.57984162]\n",
      " [0.57195985]\n",
      " [0.57337722]\n",
      " [0.54709437]\n",
      " [0.52601406]\n",
      " [0.54483491]\n",
      " [0.52945396]\n",
      " [0.54555901]\n",
      " [0.55926348]\n",
      " [0.557568  ]\n",
      " [0.53587732]\n",
      " [0.62111661]\n",
      " [0.63917041]\n",
      " [0.63247806]\n",
      " [0.60959097]\n",
      " [0.55807254]\n",
      " [0.56216053]\n",
      " [0.54691724]\n",
      " [0.54135305]\n",
      " [0.55184939]\n",
      " [0.60230257]\n",
      " [0.56273375]\n",
      " [0.55274637]\n",
      " [0.55444137]\n",
      " [0.53805171]\n",
      " [0.56629807]\n",
      " [0.56119985]\n",
      " [0.58926051]\n",
      " [0.58626734]\n",
      " [0.59947699]\n",
      " [0.60553164]\n",
      " [0.59087554]\n",
      " [0.58823559]\n",
      " [0.6081456 ]\n",
      " [0.61644885]\n",
      " [0.63305036]\n",
      " [0.6390786 ]\n",
      " [0.64144293]\n",
      " [0.67750172]\n",
      " [0.68228194]\n",
      " [0.68753184]\n",
      " [0.68126624]\n",
      " [0.6575761 ]\n",
      " [0.66912542]\n",
      " [0.66271014]\n",
      " [0.67179792]\n",
      " [0.67442669]\n",
      " [0.65784528]\n",
      " [0.62132652]\n",
      " [0.62594504]\n",
      " [0.60703967]\n",
      " [0.61472616]\n",
      " [0.60579621]\n",
      " [0.56404637]\n",
      " [0.57345537]\n",
      " [0.58961495]\n",
      " [0.57047592]\n",
      " [0.58008184]\n",
      " [0.57807686]\n",
      " [0.5670784 ]\n",
      " [0.58432169]\n",
      " [0.59483831]\n",
      " [0.59284281]\n",
      " [0.57967609]\n",
      " [0.56744164]\n",
      " [0.56349963]\n",
      " [0.56322857]\n",
      " [0.57860265]\n",
      " [0.54221457]\n",
      " [0.55968168]\n",
      " [0.56796252]\n",
      " [0.54986827]\n",
      " [0.53595644]\n",
      " [0.54768064]\n",
      " [0.54861697]\n",
      " [0.53650949]\n",
      " [0.56678955]\n",
      " [0.51823946]\n",
      " [0.50993512]\n",
      " [0.50155694]\n",
      " [0.47913061]\n",
      " [0.4206461 ]\n",
      " [0.43193092]\n",
      " [0.39949584]\n",
      " [0.40122748]\n",
      " [0.40488598]\n",
      " [0.41760417]\n",
      " [0.43631778]\n",
      " [0.41389909]\n",
      " [0.42264989]\n",
      " [0.39613685]\n",
      " [0.42091628]\n",
      " [0.40360565]\n",
      " [0.40720407]\n",
      " [0.42106223]\n",
      " [0.40202272]\n",
      " [0.41067615]\n",
      " [0.40922699]\n",
      " [0.40463914]\n",
      " [0.39469589]\n",
      " [0.39760784]\n",
      " [0.40741751]\n",
      " [0.44286646]\n",
      " [0.44389118]\n",
      " [0.41290675]\n",
      " [0.42329704]\n",
      " [0.41143481]\n",
      " [0.41343269]\n",
      " [0.41457909]\n",
      " [0.43733687]\n",
      " [0.43399173]\n",
      " [0.41936213]\n",
      " [0.417771  ]\n",
      " [0.40178791]\n",
      " [0.39054909]\n",
      " [0.36570593]\n",
      " [0.29924774]\n",
      " [0.29488593]\n",
      " [0.30057606]\n",
      " [0.26651439]\n",
      " [0.26791082]\n",
      " [0.24531112]\n",
      " [0.26918221]\n",
      " [0.26990141]\n",
      " [0.27162782]\n",
      " [0.26038008]\n",
      " [0.27746148]\n",
      " [0.27972759]\n",
      " [0.28393529]\n",
      " [0.27655083]\n",
      " [0.27201459]\n",
      " [0.26494412]\n",
      " [0.26219873]\n",
      " [0.25723531]\n",
      " [0.24922414]\n",
      " [0.2488027 ]\n",
      " [0.24965487]\n",
      " [0.26417663]\n",
      " [0.26353701]\n",
      " [0.2691041 ]\n",
      " [0.28603773]\n",
      " [0.28749163]\n",
      " [0.28533229]\n",
      " [0.27395724]\n",
      " [0.26012401]\n",
      " [0.25007206]\n",
      " [0.26387836]\n",
      " [0.26944101]\n",
      " [0.27358228]\n",
      " [0.27908497]\n",
      " [0.27269647]\n",
      " [0.29922133]\n",
      " [0.31326988]\n",
      " [0.31081844]\n",
      " [0.30977532]\n",
      " [0.30278559]\n",
      " [0.29890715]\n",
      " [0.30114072]\n",
      " [0.28174912]\n",
      " [0.27985347]\n",
      " [0.30613659]\n",
      " [0.32033427]\n",
      " [0.31972408]\n",
      " [0.31741682]\n",
      " [0.31245319]\n",
      " [0.31210037]\n",
      " [0.30687603]\n",
      " [0.30483019]\n",
      " [0.30147949]\n",
      " [0.31171354]\n",
      " [0.30661429]\n",
      " [0.30995039]\n",
      " [0.31979952]\n",
      " [0.3097705 ]\n",
      " [0.32194714]\n",
      " [0.32210083]\n",
      " [0.32902277]\n",
      " [0.3293531 ]\n",
      " [0.32772502]\n",
      " [0.32489024]\n",
      " [0.32094681]\n",
      " [0.31243923]\n",
      " [0.31052318]\n",
      " [0.27422311]\n",
      " [0.27870792]\n",
      " [0.28442936]]\n"
     ]
    }
   ],
   "source": [
    "print(y_test)"
   ]
  },
  {
   "cell_type": "code",
   "execution_count": 12,
   "metadata": {
    "collapsed": false,
    "pycharm": {
     "name": "#%%\n"
    }
   },
   "outputs": [],
   "source": [
    "x_test = np.reshape(x_test, (x_test.shape[0], x_test.shape[1], 1))              #   x_test after reshaping : (483, 60, 1)"
   ]
  },
  {
   "cell_type": "code",
   "execution_count": 13,
   "metadata": {
    "collapsed": false,
    "pycharm": {
     "name": "#%%\n"
    }
   },
   "outputs": [
    {
     "name": "stdout",
     "output_type": "stream",
     "text": [
      "[[[0.41303526]\n",
      "  [0.44884038]\n",
      "  [0.45198684]\n",
      "  ...\n",
      "  [0.69857826]\n",
      "  [0.69246932]\n",
      "  [0.68445068]]\n",
      "\n",
      " [[0.44884038]\n",
      "  [0.45198684]\n",
      "  [0.47170461]\n",
      "  ...\n",
      "  [0.69246932]\n",
      "  [0.68445068]\n",
      "  [0.70016408]]\n",
      "\n",
      " [[0.45198684]\n",
      "  [0.47170461]\n",
      "  [0.48275535]\n",
      "  ...\n",
      "  [0.68445068]\n",
      "  [0.70016408]\n",
      "  [0.68433719]]\n",
      "\n",
      " ...\n",
      "\n",
      " [[0.26990141]\n",
      "  [0.27162782]\n",
      "  [0.26038008]\n",
      "  ...\n",
      "  [0.32094681]\n",
      "  [0.31243923]\n",
      "  [0.31052318]]\n",
      "\n",
      " [[0.27162782]\n",
      "  [0.26038008]\n",
      "  [0.27746148]\n",
      "  ...\n",
      "  [0.31243923]\n",
      "  [0.31052318]\n",
      "  [0.27422311]]\n",
      "\n",
      " [[0.26038008]\n",
      "  [0.27746148]\n",
      "  [0.27972759]\n",
      "  ...\n",
      "  [0.31052318]\n",
      "  [0.27422311]\n",
      "  [0.27870792]]]\n"
     ]
    }
   ],
   "source": [
    "print(x_test)"
   ]
  },
  {
   "cell_type": "code",
   "execution_count": 14,
   "metadata": {
    "collapsed": false,
    "pycharm": {
     "name": "#%%\n"
    }
   },
   "outputs": [
    {
     "name": "stdout",
     "output_type": "stream",
     "text": [
      "<class 'numpy.ndarray'> <class 'numpy.ndarray'>\n",
      "(1296, 60, 1)\n",
      "(1296, 1)\n",
      "<class 'numpy.ndarray'> <class 'numpy.ndarray'>\n",
      "(338, 60, 1)\n",
      "(338, 1)\n"
     ]
    }
   ],
   "source": [
    "#Checking shapes\n",
    "print(type(x_train), type(y_train))                               #   numpy array\n",
    "print(x_train.shape)\n",
    "print(y_train.shape)\n",
    "print(type(x_test), type(y_test))                                 #   numpy array\n",
    "print(x_test.shape)                                               #   (483, 60, 1)\n",
    "print(y_test.shape)                                               #   (483,)"
   ]
  },
  {
   "cell_type": "code",
   "execution_count": 15,
   "metadata": {
    "collapsed": false,
    "pycharm": {
     "name": "#%%\n"
    }
   },
   "outputs": [
    {
     "name": "stdout",
     "output_type": "stream",
     "text": [
      "Model: \"sequential\"\n",
      "_________________________________________________________________\n",
      "Layer (type)                 Output Shape              Param #   \n",
      "=================================================================\n",
      "lstm (LSTM)                  (None, 60, 50)            10400     \n",
      "_________________________________________________________________\n",
      "dropout (Dropout)            (None, 60, 50)            0         \n",
      "_________________________________________________________________\n",
      "lstm_1 (LSTM)                (None, 60, 50)            20200     \n",
      "_________________________________________________________________\n",
      "dropout_1 (Dropout)          (None, 60, 50)            0         \n",
      "_________________________________________________________________\n",
      "lstm_2 (LSTM)                (None, 50)                20200     \n",
      "_________________________________________________________________\n",
      "dropout_2 (Dropout)          (None, 50)                0         \n",
      "_________________________________________________________________\n",
      "dense (Dense)                (None, 1)                 51        \n",
      "=================================================================\n",
      "Total params: 50,851\n",
      "Trainable params: 50,851\n",
      "Non-trainable params: 0\n",
      "_________________________________________________________________\n"
     ]
    }
   ],
   "source": [
    "# Create the model :\n",
    "# Create Neural Network\n",
    "model1 = Sequential()\n",
    "model1.add(LSTM(units=50, return_sequences=True, input_shape=(look_back, 1)))\n",
    "model1.add(Dropout(0.2))\n",
    "model1.add(LSTM(units=50, return_sequences=True))\n",
    "model1.add(Dropout(0.2))\n",
    "model1.add(LSTM(units=50))\n",
    "model1.add(Dropout(0.2))\n",
    "model1.add(Dense(units=future_day))\n",
    "model1.summary()"
   ]
  },
  {
   "cell_type": "code",
   "execution_count": 16,
   "metadata": {
    "collapsed": false,
    "pycharm": {
     "name": "#%%\n"
    }
   },
   "outputs": [
    {
     "name": "stdout",
     "output_type": "stream",
     "text": [
      "Epoch 1/10\n",
      "37/37 [==============================] - 10s 104ms/step - loss: 0.0123 - val_loss: 0.0069\n",
      "Epoch 2/10\n",
      "37/37 [==============================] - 3s 84ms/step - loss: 0.0022 - val_loss: 0.0090\n",
      "Epoch 3/10\n",
      "37/37 [==============================] - 3s 83ms/step - loss: 0.0022 - val_loss: 0.0104\n",
      "Epoch 4/10\n",
      "37/37 [==============================] - 3s 83ms/step - loss: 0.0015 - val_loss: 0.0128\n",
      "Epoch 5/10\n",
      "37/37 [==============================] - 3s 83ms/step - loss: 0.0016 - val_loss: 0.0102\n",
      "Epoch 6/10\n",
      "37/37 [==============================] - 3s 83ms/step - loss: 0.0017 - val_loss: 0.0119\n",
      "Epoch 7/10\n",
      "37/37 [==============================] - 3s 83ms/step - loss: 0.0017 - val_loss: 0.0111\n",
      "Epoch 8/10\n",
      "37/37 [==============================] - 3s 83ms/step - loss: 0.0015 - val_loss: 0.0084\n",
      "Epoch 9/10\n",
      "37/37 [==============================] - 3s 83ms/step - loss: 0.0016 - val_loss: 0.0044\n",
      "Epoch 10/10\n",
      "37/37 [==============================] - 3s 83ms/step - loss: 0.0014 - val_loss: 0.0064\n"
     ]
    }
   ],
   "source": [
    "model1.compile(optimizer='adam', loss='mean_squared_error')\n",
    "model1.fit(x_train, y_train, epochs=10, batch_size=32, validation_split=0.1)                 #keep epochs at least 15\n",
    "#save the model1                                        # too big model for pickle to save, so use keras.models\n",
    "#dump(model1, open('model1.pkl','wb'))\n",
    "model1.save('model1.h5')                                # to save keras model and load the model"
   ]
  },
  {
   "cell_type": "code",
   "execution_count": 17,
   "metadata": {
    "collapsed": false,
    "pycharm": {
     "name": "#%%\n"
    }
   },
   "outputs": [
    {
     "name": "stdout",
     "output_type": "stream",
     "text": [
      "11/11 [==============================] - 0s 13ms/step - loss: 0.0049\n"
     ]
    },
    {
     "data": {
      "image/png": "[encoded data removed]",
      "text/plain": [
       "<Figure size 1152x576 with 1 Axes>"
      ]
     },
     "metadata": {
      "needs_background": "light"
     },
     "output_type": "display_data"
    }
   ],
   "source": [
    "# Evaluate the model on test data\n",
    "model1.evaluate(x_test, y_test)\n",
    "\n",
    "# Predict the model on test data and plot the output graph\n",
    "prediction_prices = model1.predict(x_test, batch_size=1)\n",
    "prediction_prices = scaler.inverse_transform(prediction_prices)\n",
    "actual_prices = scaler.inverse_transform(test_scaled)\n",
    "\n",
    "plt.figure(figsize=(16,8))\n",
    "plt.plot(actual_prices, color='orange', label='Actual Prices')\n",
    "plt.plot(prediction_prices, color='green',label='Prediction Prices')\n",
    "plt.title(f'{crypto_currency} price prediction')\n",
    "plt.xlabel('Time')\n",
    "plt.ylabel('Price')\n",
    "plt.legend(loc='upper left')\n",
    "plt.show()"
   ]
  },
  {
   "cell_type": "code",
   "execution_count": 21,
   "metadata": {
    "collapsed": false,
    "pycharm": {
     "name": "#%%\n"
    }
   },
   "outputs": [],
   "source": [
    "# input_set method to receive the date range and returns X_test,Y_test data set for that specific range\n",
    "def input_set(dt0,dt1):\n",
    "\n",
    "    dt0 = dt.datetime.strptime(dt0, '%Y-%m-%d').date()\n",
    "    dt1 = dt.datetime.strptime(dt1, '%Y-%m-%d').date()\n",
    "    delta = abs((dt0 - dt1).days)\n",
    "\n",
    "    dt00= dt0 - timedelta(days=look_back)\n",
    "    data11 = web.DataReader(f'{crypto_currency}-{against_currency}','yahoo',dt00, dt1)\n",
    "    data11.to_csv(\"coin_SelectedDate.csv\")\n",
    "    scaler11 = MinMaxScaler(feature_range=(0, 1))\n",
    "    scaled_data11 = scaler11.fit_transform(data11['Close'].values.reshape(-1, 1))"
   ]
  },
  {
   "cell_type": "code",
   "execution_count": 22,
   "metadata": {
    "collapsed": false,
    "pycharm": {
     "name": "#%%\n"
    }
   },
   "outputs": [
    {
     "ename": "IndentationError",
     "evalue": "unexpected indent (1557609713.py, line 2)",
     "output_type": "error",
     "traceback": [
      "\u001b[1;36m  Input \u001b[1;32mIn [22]\u001b[1;36m\u001b[0m\n\u001b[1;33m    dt0,dt1,delta\u001b[0m\n\u001b[1;37m    ^\u001b[0m\n\u001b[1;31mIndentationError\u001b[0m\u001b[1;31m:\u001b[0m unexpected indent\n"
     ]
    }
   ],
   "source": [
    "#test_scaled11 = scaled_data[-delta:]\n",
    "    dt0,dt1,delta\n",
    "\n",
    "    test_scaled111 = scaled_data11[:,:]\n",
    "\n",
    "    x_test11 = []\n",
    "    y_test11 = []\n",
    "\n",
    "    for x11 in range(look_back,len(test_scaled111)-future_day):                             #   (60, 397))\n",
    "        x_test11.append(test_scaled111[x11-look_back:x11, 0])\n",
    "        y_test11.append(test_scaled111[x11:x11+future_day, 0])\n",
    "\n",
    "    x_test11, y_test11 = np.array(x_test11), np.array(y_test11)                             #   x_train : (483, 60), y_train :   (483,1)\n",
    "    x_test11 = np.reshape(x_test11, (x_test11.shape[0], x_test11.shape[1], 1))              #   x_test after reshaping : (483, 60, 1)\n",
    "\n",
    "    print(type(x_test11), type(y_test11))                                #   numpy array\n",
    "    print(x_test11.shape,y_test11.shape)\n",
    "\n",
    "    return x_test11,y_test11\n",
    "\n",
    "# predict method to predict on specific test_set  and plot the chart for actual vs predicted prices + print actual and predicted prices\n",
    "def predict(x_test1111,y_test1111):\n",
    "\n",
    "    print('Prediction for ' + coin_name + ', for selected date range from ' + start_date + ' to ' + end_date + ' is as following :')\n",
    "    st.header('Prediction for ' + coin_name + ' for selected date range from ' + start_date + ' to ' + end_date + ' is as following:')\n",
    "\n",
    "    model = load_model('model1.h5')                             # to reuse the model\n",
    "    scaler_model1 = load(open('scaler_model1.pkl','rb'))                                                 # to reuse the scalar\n",
    "\n",
    "    model.evaluate(x_test1111, y_test1111)\n",
    "    prediction_test1111= model.predict(x_test1111,batch_size=1)\n",
    "    prediction_test1111 = scaler_model1.inverse_transform(prediction_test1111)\n",
    "    actual_prices1111 = scaler_model1.inverse_transform(y_test1111)\n",
    "\n",
    "    dates = pd.date_range(start_date, end_date, freq='D')\n",
    "    df1111 = pd.DataFrame({'Date': dates, 'Prediction': prediction_test1111.reshape((-1)), 'Actual':actual_prices1111.reshape((-1))})          # Extremely important way to add dates to dataframe, adding other numpy 1d array thorough ((-1))\n",
    "    df1111.set_axis(df1111['Date'], inplace=True)\n",
    "    df1111.drop(columns=['Date'], inplace=True)\n",
    "\n",
    "    plt.figure(figsize=(16,8))\n",
    "    plt.plot(df1111.iloc[:,0], color='orange', label='Prediction Prices')\n",
    "    plt.plot(df1111.iloc[:,1], color='green',label='Ground Truth Prices')\n",
    "    plt.title(f'{crypto_currency} price prediction', fontsize=24)\n",
    "    plt.xlabel('Time', fontsize=24)\n",
    "    plt.ylabel(f'Price in {against_currency}', fontsize=24)\n",
    "    plt.legend(loc='upper right')\n",
    "    plt.show()\n",
    "    st.pyplot(plt)\n",
    "\n",
    "    st.write('Prediction and Actual Prices for ' + coin_name + ' for selected date range from ' + start_date + ' to ' + end_date, df1111)\n",
    "    #print(df1111)\n",
    "\n",
    "    return True\n"
   ]
  },
  {
   "cell_type": "code",
   "execution_count": 20,
   "metadata": {
    "collapsed": false,
    "pycharm": {
     "name": "#%%\n"
    }
   },
   "outputs": [
    {
     "ename": "NameError",
     "evalue": "name 'predict' is not defined",
     "output_type": "error",
     "traceback": [
      "\u001b[1;31m---------------------------------------------------------------------------\u001b[0m",
      "\u001b[1;31mNameError\u001b[0m                                 Traceback (most recent call last)",
      "Input \u001b[1;32mIn [20]\u001b[0m, in \u001b[0;36m<cell line: 4>\u001b[1;34m()\u001b[0m\n\u001b[0;32m      1\u001b[0m \u001b[38;5;66;03m## For Final output\u001b[39;00m\n\u001b[0;32m      2\u001b[0m \u001b[38;5;66;03m# User provide input date range goes here in below method and predict output and plot the graph adn print values too\u001b[39;00m\n\u001b[0;32m      3\u001b[0m a \u001b[38;5;241m=\u001b[39m input_set(start_date,end_date)\n\u001b[1;32m----> 4\u001b[0m \u001b[43mpredict\u001b[49m(a[\u001b[38;5;241m0\u001b[39m],a[\u001b[38;5;241m1\u001b[39m])\n",
      "\u001b[1;31mNameError\u001b[0m: name 'predict' is not defined"
     ]
    }
   ],
   "source": [
    "## For Final output\n",
    "# User provide input date range goes here in below method and predict output and plot the graph adn print values too\n",
    "a = input_set(start_date,end_date)\n",
    "predict(a[0],a[1])"
   ]
  },
  {
   "cell_type": "code",
   "execution_count": null,
   "metadata": {
    "collapsed": false,
    "pycharm": {
     "name": "#%%\n"
    }
   },
   "outputs": [],
   "source": []
  }
 ],
 "metadata": {
  "kernelspec": {
   "display_name": "Python 3",
   "language": "python",
   "name": "python3"
  },
  "language_info": {
   "codemirror_mode": {
    "name": "ipython",
    "version": 2
   },
   "file_extension": ".py",
   "mimetype": "text/x-python",
   "name": "python",
   "nbconvert_exporter": "python",
   "pygments_lexer": "ipython2",
   "version": "3.12.4"
  }
 },
 "nbformat": 4,
 "nbformat_minor": 0
}
